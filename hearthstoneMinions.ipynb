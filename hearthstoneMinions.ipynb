{
 "cells": [
  {
   "cell_type": "markdown",
   "id": "904c786b-b374-4088-ba20-48c8a1d1202a",
   "metadata": {},
   "source": [
    "# Stats and Winrates - Undersanding Card Game Basis Through Visualiations\n"
   ]
  },
  {
   "cell_type": "code",
   "execution_count": 2,
   "id": "655f83eb-9653-48b1-85b8-dcc40ef6dd4d",
   "metadata": {},
   "outputs": [
    {
     "name": "stdout",
     "output_type": "stream",
     "text": [
      "testing again\n"
     ]
    }
   ],
   "source": [
    "print(\"testing again\")"
   ]
  },
  {
   "cell_type": "code",
   "execution_count": null,
   "id": "d6a95706-df53-4cb4-8903-1856508dc50d",
   "metadata": {},
   "outputs": [],
   "source": []
  }
 ],
 "metadata": {
  "kernelspec": {
   "display_name": "Python 3.10 (ipykernel)",
   "language": "python",
   "name": "python3"
  },
  "language_info": {
   "codemirror_mode": {
    "name": "ipython",
    "version": 3
   },
   "file_extension": ".py",
   "mimetype": "text/x-python",
   "name": "python",
   "nbconvert_exporter": "python",
   "pygments_lexer": "ipython3",
   "version": "3.10.11"
  }
 },
 "nbformat": 4,
 "nbformat_minor": 5
}
